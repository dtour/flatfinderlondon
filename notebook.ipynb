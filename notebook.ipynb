{
 "cells": [
  {
   "cell_type": "code",
   "execution_count": 119,
   "metadata": {},
   "outputs": [],
   "source": [
    "from rightmove_webscraper import RightmoveData\n",
    "import pandas as pd\n",
    "\n",
    "# Not including shoreditch or 1 mil for farr and chancery\n",
    "stations = [['Chancery Lane', 1919], ['Farringdon', 3431], ['Goodge Street', 3863], ['Warren Street', 9626], ['Victoria', 9491], ['Angel', 245], [\"King's Cross\", 5162], ['Russell Square', 7877], [\"Regent's Park\", 7658], ['Waterloo', 9662], ['Lambeth North', 5345], ['Southwark', 8498], ['Aldgate East', 143], ['Shoreditch High Street', 10415], ['Liverpool Street', 5615]]\n",
    "\n",
    "# Choose parameters to be an empty string\n",
    "max_days_since_added = 3 # can be 1, 3, 7\n",
    "# URL with desired modifiers: to rent, 1/2 mile radius from given station, posted 24 hours ago, max and min beds = 1, min price = 1000, max price = 1750, no let agreed flats, and exclduing flat shares, retirement homes and student accomodations.\n",
    "# Note you have to find the station codes by manually extracting them from the rightmove URL\n",
    "def url(station_code, max_days_since_added=max_days_since_added):\n",
    "     return f\"https://www.rightmove.co.uk/property-to-rent/find.html?locationIdentifier=STATION%5E{ station_code }&maxBedrooms=1&minBedrooms=1&maxPrice=1750&minPrice=1000&radius=0.5&propertyTypes=&maxDaysSinceAdded={ max_days_since_added }&includeLetAgreed=false&mustHave=&dontShow=houseShare%2Cretirement%2Cstudent&furnishTypes=&keywords=\""
   ]
  },
  {
   "cell_type": "code",
   "execution_count": 120,
   "metadata": {},
   "outputs": [],
   "source": [
    "df = pd.DataFrame(columns=['price', 'type', 'station', 'address', 'url', 'agent_url', 'postcode', 'full_postcode', 'number_bedrooms','search_date'])\n"
   ]
  },
  {
   "cell_type": "code",
   "execution_count": 121,
   "metadata": {},
   "outputs": [],
   "source": [
    "for station in stations:\n",
    "    # Scrape rightmove data for around a given station\n",
    "    temp = RightmoveData(url(station[1])).get_results\n",
    "    # Append station name\n",
    "    temp.insert(2, 'station', station[0])\n",
    "    # Concat dataframes\n",
    "    df = pd.concat([df, temp]).drop_duplicates(subset=['url']).reset_index(drop=True)"
   ]
  },
  {
   "cell_type": "code",
   "execution_count": 122,
   "metadata": {},
   "outputs": [],
   "source": [
    "# Custom searches\n",
    "farringdon_mile = RightmoveData(f'https://www.rightmove.co.uk/property-to-rent/find.html?locationIdentifier=STATION%5E3431&maxBedrooms=1&minBedrooms=1&maxPrice=1750&minPrice=1000&radius=1.0&propertyTypes=&maxDaysSinceAdded={ max_days_since_added }&includeLetAgreed=false&mustHave=&dontShow=houseShare%2Cretirement%2Cstudent&furnishTypes=&keywords=').get_results\n",
    "chancerylane_mile = RightmoveData(f'https://www.rightmove.co.uk/property-to-rent/find.html?locationIdentifier=STATION%5E1919&maxBedrooms=1&minBedrooms=1&maxPrice=1750&minPrice=1000&radius=1.0&propertyTypes=&maxDaysSinceAdded={ max_days_since_added }&includeLetAgreed=false&mustHave=&dontShow=houseShare%2Cretirement%2Cstudent&furnishTypes=&keywords=').get_results\n",
    "# Append to main\n",
    "df = pd.concat([df, farringdon_mile, chancerylane_mile]).drop_duplicates(subset=['url']).reset_index(drop=True)"
   ]
  },
  {
   "cell_type": "code",
   "execution_count": 123,
   "metadata": {},
   "outputs": [
    {
     "data": {
      "text/html": [
       "<div>\n",
       "<style scoped>\n",
       "    .dataframe tbody tr th:only-of-type {\n",
       "        vertical-align: middle;\n",
       "    }\n",
       "\n",
       "    .dataframe tbody tr th {\n",
       "        vertical-align: top;\n",
       "    }\n",
       "\n",
       "    .dataframe thead th {\n",
       "        text-align: right;\n",
       "    }\n",
       "</style>\n",
       "<table border=\"1\" class=\"dataframe\">\n",
       "  <thead>\n",
       "    <tr style=\"text-align: right;\">\n",
       "      <th></th>\n",
       "      <th>price</th>\n",
       "      <th>type</th>\n",
       "      <th>station</th>\n",
       "      <th>address</th>\n",
       "      <th>url</th>\n",
       "      <th>agent_url</th>\n",
       "      <th>postcode</th>\n",
       "      <th>full_postcode</th>\n",
       "      <th>number_bedrooms</th>\n",
       "      <th>search_date</th>\n",
       "    </tr>\n",
       "  </thead>\n",
       "  <tbody>\n",
       "    <tr>\n",
       "      <th>0</th>\n",
       "      <td>1733</td>\n",
       "      <td>1 bedroom flat</td>\n",
       "      <td>Angel</td>\n",
       "      <td>Barnsbury Road, London, N1</td>\n",
       "      <td>http://www.rightmove.co.uk/properties/12507910...</td>\n",
       "      <td>http://www.rightmove.co.uk/estate-agents/agent...</td>\n",
       "      <td>N1</td>\n",
       "      <td>NaN</td>\n",
       "      <td>1</td>\n",
       "      <td>2022-07-18 13:09:30.890564</td>\n",
       "    </tr>\n",
       "    <tr>\n",
       "      <th>1</th>\n",
       "      <td>1690</td>\n",
       "      <td>1 bedroom flat</td>\n",
       "      <td>King's Cross</td>\n",
       "      <td>Queen Alexandra Mansions, London, WC1H</td>\n",
       "      <td>http://www.rightmove.co.uk/properties/12505078...</td>\n",
       "      <td>http://www.rightmove.co.uk/estate-agents/agent...</td>\n",
       "      <td>WC1H</td>\n",
       "      <td>NaN</td>\n",
       "      <td>1</td>\n",
       "      <td>2022-07-18 13:09:31.671436</td>\n",
       "    </tr>\n",
       "    <tr>\n",
       "      <th>2</th>\n",
       "      <td>1517</td>\n",
       "      <td>1 bedroom apartment</td>\n",
       "      <td>Aldgate East</td>\n",
       "      <td>Commercial Road, London</td>\n",
       "      <td>http://www.rightmove.co.uk/properties/12476146...</td>\n",
       "      <td>http://www.rightmove.co.uk/estate-agents/agent...</td>\n",
       "      <td>NaN</td>\n",
       "      <td>NaN</td>\n",
       "      <td>1</td>\n",
       "      <td>2022-07-18 13:09:34.611749</td>\n",
       "    </tr>\n",
       "    <tr>\n",
       "      <th>3</th>\n",
       "      <td>1600</td>\n",
       "      <td>1 bedroom flat</td>\n",
       "      <td>Shoreditch High Street</td>\n",
       "      <td>Brick Lane, Shoreditch</td>\n",
       "      <td>http://www.rightmove.co.uk/properties/12507558...</td>\n",
       "      <td>http://www.rightmove.co.uk/estate-agents/agent...</td>\n",
       "      <td>NaN</td>\n",
       "      <td>NaN</td>\n",
       "      <td>1</td>\n",
       "      <td>2022-07-18 13:09:35.138041</td>\n",
       "    </tr>\n",
       "    <tr>\n",
       "      <th>4</th>\n",
       "      <td>1550</td>\n",
       "      <td>1 bedroom flat</td>\n",
       "      <td>Shoreditch High Street</td>\n",
       "      <td>Pennybank Chambers, London, EC2A</td>\n",
       "      <td>http://www.rightmove.co.uk/properties/12505671...</td>\n",
       "      <td>http://www.rightmove.co.uk/estate-agents/agent...</td>\n",
       "      <td>EC2A</td>\n",
       "      <td>NaN</td>\n",
       "      <td>1</td>\n",
       "      <td>2022-07-18 13:09:35.138041</td>\n",
       "    </tr>\n",
       "  </tbody>\n",
       "</table>\n",
       "</div>"
      ],
      "text/plain": [
       "  price                 type                 station  \\\n",
       "0  1733       1 bedroom flat                   Angel   \n",
       "1  1690       1 bedroom flat            King's Cross   \n",
       "2  1517  1 bedroom apartment            Aldgate East   \n",
       "3  1600       1 bedroom flat  Shoreditch High Street   \n",
       "4  1550       1 bedroom flat  Shoreditch High Street   \n",
       "\n",
       "                                  address  \\\n",
       "0              Barnsbury Road, London, N1   \n",
       "1  Queen Alexandra Mansions, London, WC1H   \n",
       "2                 Commercial Road, London   \n",
       "3                  Brick Lane, Shoreditch   \n",
       "4        Pennybank Chambers, London, EC2A   \n",
       "\n",
       "                                                 url  \\\n",
       "0  http://www.rightmove.co.uk/properties/12507910...   \n",
       "1  http://www.rightmove.co.uk/properties/12505078...   \n",
       "2  http://www.rightmove.co.uk/properties/12476146...   \n",
       "3  http://www.rightmove.co.uk/properties/12507558...   \n",
       "4  http://www.rightmove.co.uk/properties/12505671...   \n",
       "\n",
       "                                           agent_url postcode full_postcode  \\\n",
       "0  http://www.rightmove.co.uk/estate-agents/agent...       N1           NaN   \n",
       "1  http://www.rightmove.co.uk/estate-agents/agent...     WC1H           NaN   \n",
       "2  http://www.rightmove.co.uk/estate-agents/agent...      NaN           NaN   \n",
       "3  http://www.rightmove.co.uk/estate-agents/agent...      NaN           NaN   \n",
       "4  http://www.rightmove.co.uk/estate-agents/agent...     EC2A           NaN   \n",
       "\n",
       "  number_bedrooms                search_date  \n",
       "0               1 2022-07-18 13:09:30.890564  \n",
       "1               1 2022-07-18 13:09:31.671436  \n",
       "2               1 2022-07-18 13:09:34.611749  \n",
       "3               1 2022-07-18 13:09:35.138041  \n",
       "4               1 2022-07-18 13:09:35.138041  "
      ]
     },
     "execution_count": 123,
     "metadata": {},
     "output_type": "execute_result"
    }
   ],
   "source": [
    "# Extract URLs\n",
    "urls = df['url'].tolist()\n",
    "# Show dataframe\n",
    "df"
   ]
  },
  {
   "cell_type": "code",
   "execution_count": 124,
   "metadata": {},
   "outputs": [],
   "source": [
    "# Open all URLs in browser\n",
    "import webbrowser\n",
    "\n",
    "for url in urls:\n",
    "    webbrowser.open(url)\n"
   ]
  },
  {
   "cell_type": "code",
   "execution_count": null,
   "metadata": {},
   "outputs": [],
   "source": [
    "# Open single URL in browser\n",
    "webbrowser.open(urls[0])"
   ]
  },
  {
   "cell_type": "code",
   "execution_count": null,
   "metadata": {},
   "outputs": [],
   "source": []
  }
 ],
 "metadata": {
  "kernelspec": {
   "display_name": "Python 3.9.6 ('env': venv)",
   "language": "python",
   "name": "python3"
  },
  "language_info": {
   "codemirror_mode": {
    "name": "ipython",
    "version": 3
   },
   "file_extension": ".py",
   "mimetype": "text/x-python",
   "name": "python",
   "nbconvert_exporter": "python",
   "pygments_lexer": "ipython3",
   "version": "3.9.6"
  },
  "orig_nbformat": 4,
  "vscode": {
   "interpreter": {
    "hash": "ae7fface4cc1a661857ec646ad157236fd4fc691b91c407047b2bcb3ebba24e5"
   }
  }
 },
 "nbformat": 4,
 "nbformat_minor": 2
}
